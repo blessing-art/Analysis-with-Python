{
 "cells": [
  {
   "cell_type": "code",
   "execution_count": 1,
   "id": "7c968fd9",
   "metadata": {},
   "outputs": [
    {
     "name": "stdout",
     "output_type": "stream",
     "text": [
      "1.20.3\n"
     ]
    }
   ],
   "source": [
    "import numpy as np\n",
    "import scipy as sp\n",
    "print(np.__version__)"
   ]
  },
  {
   "cell_type": "markdown",
   "id": "d282f1e0",
   "metadata": {},
   "source": [
    "### Numpy array\n",
    "#### one-dimensional array"
   ]
  },
  {
   "cell_type": "code",
   "execution_count": 2,
   "id": "06981419",
   "metadata": {},
   "outputs": [
    {
     "data": {
      "text/plain": [
       "[0, 1, 2, 3, 4, 5, 6, 7, 8, 9, 10, 11, 12, 13, 14, 15, 16, 17, 18, 19]"
      ]
     },
     "execution_count": 2,
     "metadata": {},
     "output_type": "execute_result"
    }
   ],
   "source": [
    "L = list(range(20))\n",
    "L"
   ]
  },
  {
   "cell_type": "code",
   "execution_count": 3,
   "id": "43805895",
   "metadata": {},
   "outputs": [],
   "source": [
    "first_array = np.array(L)"
   ]
  },
  {
   "cell_type": "code",
   "execution_count": 5,
   "id": "6edba149",
   "metadata": {},
   "outputs": [
    {
     "name": "stdout",
     "output_type": "stream",
     "text": [
      "[ 0  1  2  3  4  5  6  7  8  9 10 11 12 13 14 15 16 17 18 19]\n",
      "<class 'numpy.ndarray'>\n"
     ]
    }
   ],
   "source": [
    "print(first_array)\n",
    "print(type(first_array)) #first_array data type"
   ]
  },
  {
   "cell_type": "code",
   "execution_count": 6,
   "id": "7b778275",
   "metadata": {},
   "outputs": [
    {
     "data": {
      "text/plain": [
       "(array([11, 12, 13, 14, 15, 16, 17, 18, 19], dtype=int64),)"
      ]
     },
     "execution_count": 6,
     "metadata": {},
     "output_type": "execute_result"
    }
   ],
   "source": [
    "first_array_than_10 = np.where(first_array>10)\n",
    "first_array_than_10"
   ]
  },
  {
   "cell_type": "code",
   "execution_count": 8,
   "id": "242bda61",
   "metadata": {},
   "outputs": [
    {
     "name": "stdout",
     "output_type": "stream",
     "text": [
      "[11 12 13 14 15 16 17 18 19]\n"
     ]
    }
   ],
   "source": [
    "# other than\n",
    "print(first_array[np.where(first_array>10)])"
   ]
  },
  {
   "cell_type": "code",
   "execution_count": 9,
   "id": "bafa1485",
   "metadata": {},
   "outputs": [
    {
     "data": {
      "text/plain": [
       "(20,)"
      ]
     },
     "execution_count": 9,
     "metadata": {},
     "output_type": "execute_result"
    }
   ],
   "source": [
    "first_array.shape "
   ]
  },
  {
   "cell_type": "code",
   "execution_count": 11,
   "id": "b49292b5",
   "metadata": {},
   "outputs": [
    {
     "name": "stdout",
     "output_type": "stream",
     "text": [
      "first_array_mean:  9.5\n",
      "first_array_std:  5.766281297335398\n",
      "first_array_std:  19\n"
     ]
    }
   ],
   "source": [
    "# finding the mean, std and the range of first_array\n",
    "first_array_mean = first_array.mean()\n",
    "first_array_std = first_array.std()\n",
    "first_array_max = first_array.max()\n",
    "first_array_min = first_array.min()\n",
    "\n",
    "# range = highest - lowest\n",
    "first_array_range = first_array_max - first_array_min\n",
    "print('first_array_mean: ',first_array_mean)\n",
    "print('first_array_std: ', first_array_std)\n",
    "print('first_array_std: ', first_array_range)"
   ]
  },
  {
   "cell_type": "markdown",
   "id": "2ca6d0b9",
   "metadata": {},
   "source": [
    "#### Simple Mathematics calculations with first_array"
   ]
  },
  {
   "cell_type": "code",
   "execution_count": 13,
   "id": "08c1e11a",
   "metadata": {},
   "outputs": [
    {
     "data": {
      "text/plain": [
       "array([ 5,  6,  7,  8,  9, 10, 11, 12, 13, 14, 15, 16, 17, 18, 19, 20, 21,\n",
       "       22, 23, 24])"
      ]
     },
     "execution_count": 13,
     "metadata": {},
     "output_type": "execute_result"
    }
   ],
   "source": [
    "first_array_add5 = first_array + 5\n",
    "first_array_add5"
   ]
  },
  {
   "cell_type": "code",
   "execution_count": 15,
   "id": "de34fa1c",
   "metadata": {},
   "outputs": [
    {
     "data": {
      "text/plain": [
       "array([0. , 0.5, 1. , 1.5, 2. , 2.5, 3. , 3.5, 4. , 4.5, 5. , 5.5, 6. ,\n",
       "       6.5, 7. , 7.5, 8. , 8.5, 9. , 9.5])"
      ]
     },
     "execution_count": 15,
     "metadata": {},
     "output_type": "execute_result"
    }
   ],
   "source": [
    "first_add_mult_half = first_array * 0.5\n",
    "first_add_mult_half"
   ]
  },
  {
   "cell_type": "code",
   "execution_count": 16,
   "id": "3031ea41",
   "metadata": {},
   "outputs": [
    {
     "data": {
      "text/plain": [
       "array([0. , 0.1, 0.2, 0.3, 0.4, 0.5, 0.6, 0.7, 0.8, 0.9, 1. , 1.1, 1.2,\n",
       "       1.3, 1.4, 1.5, 1.6, 1.7, 1.8, 1.9])"
      ]
     },
     "execution_count": 16,
     "metadata": {},
     "output_type": "execute_result"
    }
   ],
   "source": [
    "first_add_div_half = first_array / 10\n",
    "first_add_div_half"
   ]
  },
  {
   "cell_type": "code",
   "execution_count": 17,
   "id": "65db4a42",
   "metadata": {},
   "outputs": [
    {
     "name": "stderr",
     "output_type": "stream",
     "text": [
      "C:\\Users\\hp\\AppData\\Local\\Temp/ipykernel_7752/4159520692.py:3: RuntimeWarning: invalid value encountered in true_divide\n",
      "  first_array_combine_div = first_array / first_add_mult_half\n"
     ]
    },
    {
     "data": {
      "text/plain": [
       "array([nan,  2.,  2.,  2.,  2.,  2.,  2.,  2.,  2.,  2.,  2.,  2.,  2.,\n",
       "        2.,  2.,  2.,  2.,  2.,  2.,  2.])"
      ]
     },
     "execution_count": 17,
     "metadata": {},
     "output_type": "execute_result"
    }
   ],
   "source": [
    "# division of the first_array\n",
    "# in combinations of first_array with first_add_mult_half\n",
    "first_array_combine_div = first_array / first_add_mult_half\n",
    "first_array_combine_div"
   ]
  },
  {
   "cell_type": "code",
   "execution_count": 19,
   "id": "0bb1739d",
   "metadata": {},
   "outputs": [
    {
     "name": "stderr",
     "output_type": "stream",
     "text": [
      "C:\\Users\\hp\\AppData\\Local\\Temp/ipykernel_7752/3123316787.py:1: RuntimeWarning: invalid value encountered in true_divide\n",
      "  first_array_combine_div1 = first_array /  first_add_div_half\n"
     ]
    },
    {
     "data": {
      "text/plain": [
       "array([nan, 10., 10., 10., 10., 10., 10., 10., 10., 10., 10., 10., 10.,\n",
       "       10., 10., 10., 10., 10., 10., 10.])"
      ]
     },
     "execution_count": 19,
     "metadata": {},
     "output_type": "execute_result"
    }
   ],
   "source": [
    "first_array_combine_div1 = first_array /  first_add_div_half\n",
    "first_array_combine_div1"
   ]
  },
  {
   "cell_type": "code",
   "execution_count": 20,
   "id": "7522a6aa",
   "metadata": {},
   "outputs": [
    {
     "name": "stdout",
     "output_type": "stream",
     "text": [
      "8\n",
      "[ 5  6  7  8  9 10 11 12 13 14]\n",
      "[ 1  3  5  7  9 11]\n"
     ]
    }
   ],
   "source": [
    "# Acessing Single Element\n",
    "print(first_array[8])\n",
    "print(first_array[5:15])\n",
    "print(first_array[1:13:2])"
   ]
  },
  {
   "cell_type": "markdown",
   "id": "c576eaf1",
   "metadata": {},
   "source": [
    "##### concatenations of one-dimentional array"
   ]
  },
  {
   "cell_type": "code",
   "execution_count": 21,
   "id": "868373f4",
   "metadata": {},
   "outputs": [
    {
     "data": {
      "text/plain": [
       "array([ 5. ,  6. ,  7. ,  8. ,  9. , 10. , 11. , 12. , 13. , 14. , 15. ,\n",
       "       16. , 17. , 18. , 19. , 20. , 21. , 22. , 23. , 24. ,  0. ,  0.1,\n",
       "        0.2,  0.3,  0.4,  0.5,  0.6,  0.7,  0.8,  0.9,  1. ,  1.1,  1.2,\n",
       "        1.3,  1.4,  1.5,  1.6,  1.7,  1.8,  1.9])"
      ]
     },
     "execution_count": 21,
     "metadata": {},
     "output_type": "execute_result"
    }
   ],
   "source": [
    "first_array_concatenate = np.concatenate([first_array_add5, \n",
    "                                          first_add_div_half])\n",
    "first_array_concatenate"
   ]
  },
  {
   "cell_type": "code",
   "execution_count": 32,
   "id": "f30286df",
   "metadata": {},
   "outputs": [
    {
     "name": "stdout",
     "output_type": "stream",
     "text": [
      "[ 1  3  5  7  9 11 19 18 17 16 15 14 13 12 11 10  9  8  7  6  5  4  3  2\n",
      "  1  0]\n"
     ]
    }
   ],
   "source": [
    "print(np.concatenate([first_array[1:13:2], first_array[::-1]]))"
   ]
  },
  {
   "cell_type": "code",
   "execution_count": 36,
   "id": "9ff6c9d1",
   "metadata": {},
   "outputs": [
    {
     "data": {
      "text/plain": [
       "array([ 1,  3,  5,  7,  9, 11, 19, 18, 17, 16, 15, 14, 13, 12, 11, 10,  9,\n",
       "        8,  7,  6,  5,  4,  3,  2,  1,  0])"
      ]
     },
     "execution_count": 36,
     "metadata": {},
     "output_type": "execute_result"
    }
   ],
   "source": [
    "#other thanprint\n",
    "(np.r_[first_array[1:13:2], first_array[::-1]])"
   ]
  },
  {
   "cell_type": "markdown",
   "id": "6e2884bc",
   "metadata": {},
   "source": [
    "### Two-Dimensional array"
   ]
  },
  {
   "cell_type": "code",
   "execution_count": 43,
   "id": "910fa52f",
   "metadata": {},
   "outputs": [
    {
     "data": {
      "text/plain": [
       "array([[0., 0.],\n",
       "       [0., 0.]])"
      ]
     },
     "execution_count": 43,
     "metadata": {},
     "output_type": "execute_result"
    }
   ],
   "source": [
    "two_array_zero = np.zeros((2,2))\n",
    "two_array"
   ]
  },
  {
   "cell_type": "code",
   "execution_count": 44,
   "id": "c0c96506",
   "metadata": {},
   "outputs": [
    {
     "data": {
      "text/plain": [
       "array([[1., 1.],\n",
       "       [1., 1.]])"
      ]
     },
     "execution_count": 44,
     "metadata": {},
     "output_type": "execute_result"
    }
   ],
   "source": [
    "two_array_ones = np.ones((2,2))\n",
    "two_array_ones"
   ]
  },
  {
   "cell_type": "code",
   "execution_count": 46,
   "id": "2bb39ea2",
   "metadata": {},
   "outputs": [
    {
     "data": {
      "text/plain": [
       "array([[1., 1.],\n",
       "       [1., 1.]])"
      ]
     },
     "execution_count": 46,
     "metadata": {},
     "output_type": "execute_result"
    }
   ],
   "source": [
    "# random chosen number\n",
    "two_array_empty = np.empty((2,2))\n",
    "two_array_empty"
   ]
  },
  {
   "cell_type": "code",
   "execution_count": 48,
   "id": "72de26fe",
   "metadata": {},
   "outputs": [
    {
     "data": {
      "text/plain": [
       "array([0, 1, 2, 3, 4, 5, 6, 7])"
      ]
     },
     "execution_count": 48,
     "metadata": {},
     "output_type": "execute_result"
    }
   ],
   "source": [
    "oneD_array = np.arange(8)\n",
    "oneD_array"
   ]
  },
  {
   "cell_type": "code",
   "execution_count": 60,
   "id": "432c551d",
   "metadata": {},
   "outputs": [
    {
     "name": "stdout",
     "output_type": "stream",
     "text": [
      "[[0 1 2 3]\n",
      " [4 5 6 7]]\n",
      "twoD_array:  (2, 4)\n"
     ]
    }
   ],
   "source": [
    "twoD_array = oneD_array.reshape(2,4)\n",
    "print(twoD_array)\n",
    "print('twoD_array: ', twoD_array.shape)"
   ]
  },
  {
   "cell_type": "code",
   "execution_count": 58,
   "id": "08092e38",
   "metadata": {},
   "outputs": [
    {
     "name": "stdout",
     "output_type": "stream",
     "text": [
      "[[0 4]\n",
      " [1 5]\n",
      " [2 6]\n",
      " [3 7]]\n",
      "twoD_array_transpose: (4, 2)\n"
     ]
    }
   ],
   "source": [
    "twoD_array_transpose = twoD_array.T\n",
    "print(twoD_array_transpose)\n",
    "print('twoD_array_transpose:',twoD_array_transpose.shape)\n"
   ]
  },
  {
   "cell_type": "code",
   "execution_count": 56,
   "id": "9bd8d502",
   "metadata": {},
   "outputs": [
    {
     "name": "stdout",
     "output_type": "stream",
     "text": [
      "[1.         2.66666667 4.33333333 6.        ]\n"
     ]
    }
   ],
   "source": [
    "print(np.linspace(1,6,4))"
   ]
  },
  {
   "cell_type": "code",
   "execution_count": 63,
   "id": "d5f73f67",
   "metadata": {},
   "outputs": [],
   "source": [
    "X = np.arange(10).reshape(5,2)\n",
    "twoX = X + X"
   ]
  },
  {
   "cell_type": "code",
   "execution_count": 78,
   "id": "539f7f75",
   "metadata": {},
   "outputs": [
    {
     "name": "stdout",
     "output_type": "stream",
     "text": [
      "[[[0 1]]\n",
      "\n",
      " [[2 3]]\n",
      "\n",
      " [[4 5]]\n",
      "\n",
      " [[6 7]]\n",
      "\n",
      " [[8 9]]]\n",
      "(5, 1, 2)\n"
     ]
    }
   ],
   "source": [
    "# addition of new column\n",
    "X_add_col =X[:, np.newaxis]\n",
    "print(X_add_col)\n",
    "print(X_add_col.shape) #implies 1 X 2 five times"
   ]
  },
  {
   "cell_type": "code",
   "execution_count": 76,
   "id": "f4b44eb8",
   "metadata": {},
   "outputs": [
    {
     "name": "stdout",
     "output_type": "stream",
     "text": [
      "[[[ 0  3]\n",
      "  [ 4  7]\n",
      "  [ 8 11]\n",
      "  [12 15]\n",
      "  [16 19]]\n",
      "\n",
      " [[ 2  5]\n",
      "  [ 6  9]\n",
      "  [10 13]\n",
      "  [14 17]\n",
      "  [18 21]]\n",
      "\n",
      " [[ 4  7]\n",
      "  [ 8 11]\n",
      "  [12 15]\n",
      "  [16 19]\n",
      "  [20 23]]\n",
      "\n",
      " [[ 6  9]\n",
      "  [10 13]\n",
      "  [14 17]\n",
      "  [18 21]\n",
      "  [22 25]]\n",
      "\n",
      " [[ 8 11]\n",
      "  [12 15]\n",
      "  [16 19]\n",
      "  [20 23]\n",
      "  [24 27]]]\n",
      "(5, 5, 2)\n"
     ]
    }
   ],
   "source": [
    "#X_add_col and twoX \n",
    "X_add =twoX +X_add_col\n",
    "print(X_add)\n",
    "print(X_add.shape)"
   ]
  },
  {
   "cell_type": "markdown",
   "id": "95d98377",
   "metadata": {},
   "source": [
    "#### matrix slicing"
   ]
  },
  {
   "cell_type": "code",
   "execution_count": 82,
   "id": "057866c8",
   "metadata": {},
   "outputs": [
    {
     "data": {
      "text/plain": [
       "array([0, 3])"
      ]
     },
     "execution_count": 82,
     "metadata": {},
     "output_type": "execute_result"
    }
   ],
   "source": [
    "# getting X_add all first column\n",
    "## fc = first of first column\n",
    "X_add_fc = X_add[0][0]\n",
    "X_add_fc"
   ]
  },
  {
   "cell_type": "code",
   "execution_count": 84,
   "id": "4c3debd2",
   "metadata": {},
   "outputs": [
    {
     "data": {
      "text/plain": [
       "array([[[ 0,  3],\n",
       "        [ 4,  7],\n",
       "        [ 8, 11],\n",
       "        [12, 15],\n",
       "        [16, 19]],\n",
       "\n",
       "       [[ 2,  5],\n",
       "        [ 6,  9],\n",
       "        [10, 13],\n",
       "        [14, 17],\n",
       "        [18, 21]],\n",
       "\n",
       "       [[ 4,  7],\n",
       "        [ 8, 11],\n",
       "        [12, 15],\n",
       "        [16, 19],\n",
       "        [20, 23]],\n",
       "\n",
       "       [[ 6,  9],\n",
       "        [10, 13],\n",
       "        [14, 17],\n",
       "        [18, 21],\n",
       "        [22, 25]],\n",
       "\n",
       "       [[ 5, -1],\n",
       "        [12, 15],\n",
       "        [16, 19],\n",
       "        [20, 23],\n",
       "        [24, 27]]])"
      ]
     },
     "execution_count": 84,
     "metadata": {},
     "output_type": "execute_result"
    }
   ],
   "source": [
    "# giving another number to last matrix first row and frist column\n",
    "X_add[4,0] = [5,-1]\n",
    "X_add"
   ]
  },
  {
   "cell_type": "code",
   "execution_count": 90,
   "id": "12e632c7",
   "metadata": {},
   "outputs": [
    {
     "name": "stdout",
     "output_type": "stream",
     "text": [
      "[False False]\n"
     ]
    }
   ],
   "source": [
    "# checking the last matrix 3rd row and first element  \n",
    "print(X_add[4,2,0] == [3,1])"
   ]
  },
  {
   "cell_type": "code",
   "execution_count": 91,
   "id": "694d871d",
   "metadata": {},
   "outputs": [
    {
     "name": "stdout",
     "output_type": "stream",
     "text": [
      "[ True]\n"
     ]
    }
   ],
   "source": [
    "# checking the last matrix 3rd row and first element \n",
    "print(X_add[4,2,0] == [16])"
   ]
  },
  {
   "cell_type": "markdown",
   "id": "e7ba6163",
   "metadata": {},
   "source": [
    "### checking random numbers"
   ]
  },
  {
   "cell_type": "code",
   "execution_count": 92,
   "id": "5004b616",
   "metadata": {},
   "outputs": [
    {
     "data": {
      "text/plain": [
       "array([ 1.62434536, -0.61175641, -0.52817175, -1.07296862,  0.86540763,\n",
       "       -2.3015387 ,  1.74481176, -0.7612069 ,  0.3190391 , -0.24937038,\n",
       "        1.46210794, -2.06014071, -0.3224172 , -0.38405435,  1.13376944,\n",
       "       -1.09989127, -0.17242821, -0.87785842,  0.04221375,  0.58281521,\n",
       "       -1.10061918,  1.14472371,  0.90159072,  0.50249434,  0.90085595,\n",
       "       -0.68372786, -0.12289023, -0.93576943, -0.26788808,  0.53035547,\n",
       "       -0.69166075, -0.39675353, -0.6871727 , -0.84520564, -0.67124613,\n",
       "       -0.0126646 , -1.11731035,  0.2344157 ,  1.65980218,  0.74204416,\n",
       "       -0.19183555, -0.88762896, -0.74715829,  1.6924546 ,  0.05080775,\n",
       "       -0.63699565,  0.19091548,  2.10025514,  0.12015895,  0.61720311,\n",
       "        0.30017032, -0.35224985, -1.1425182 , -0.34934272, -0.20889423,\n",
       "        0.58662319,  0.83898341,  0.93110208,  0.28558733,  0.88514116,\n",
       "       -0.75439794,  1.25286816,  0.51292982, -0.29809284,  0.48851815,\n",
       "       -0.07557171,  1.13162939,  1.51981682,  2.18557541, -1.39649634,\n",
       "       -1.44411381, -0.50446586,  0.16003707,  0.87616892,  0.31563495,\n",
       "       -2.02220122, -0.30620401,  0.82797464,  0.23009474,  0.76201118,\n",
       "       -0.22232814, -0.20075807,  0.18656139,  0.41005165,  0.19829972,\n",
       "        0.11900865, -0.67066229,  0.37756379,  0.12182127,  1.12948391,\n",
       "        1.19891788,  0.18515642, -0.37528495, -0.63873041,  0.42349435,\n",
       "        0.07734007, -0.34385368,  0.04359686, -0.62000084,  0.69803203])"
      ]
     },
     "execution_count": 92,
     "metadata": {},
     "output_type": "execute_result"
    }
   ],
   "source": [
    "# letting the random not to fade away incase of any other useage\n",
    "np.random.seed(1)\n",
    "x = np.random.randn(100)\n",
    "x"
   ]
  },
  {
   "cell_type": "code",
   "execution_count": 94,
   "id": "391ab9d5",
   "metadata": {},
   "outputs": [
    {
     "name": "stdout",
     "output_type": "stream",
     "text": [
      "[-5.         -4.47368421 -3.94736842 -3.42105263 -2.89473684 -2.36842105\n",
      " -1.84210526 -1.31578947 -0.78947368 -0.26315789  0.26315789  0.78947368\n",
      "  1.31578947  1.84210526  2.36842105  2.89473684  3.42105263  3.94736842\n",
      "  4.47368421  5.        ]\n",
      "[0. 0. 0. 0. 0. 0. 0. 0. 0. 0. 0. 0. 0. 0. 0. 0. 0. 0. 0. 0.]\n"
     ]
    }
   ],
   "source": [
    "binss = np.linspace(-5, 5, 20)\n",
    "counted = np.zeros_like(binss)\n",
    "print(binss)\n",
    "print(counted)"
   ]
  },
  {
   "cell_type": "code",
   "execution_count": 107,
   "id": "33549e5c",
   "metadata": {},
   "outputs": [
    {
     "name": "stdout",
     "output_type": "stream",
     "text": [
      "RandomState(MT19937)\n",
      "[[ 5 11 12  8  9 11]\n",
      " [ 5 15  0 16  1 12]\n",
      " [ 7 13  6 18  5 18]\n",
      " [11 10 14 18  4  9]]\n"
     ]
    }
   ],
   "source": [
    "np.random.seed(1)\n",
    "y = np.random.RandomState(1)\n",
    "y_int = y.randint(0, 20, (4,6)) # 0 to 20, 4 row and 6 column\n",
    "print(y)\n",
    "print(y_int)\n"
   ]
  },
  {
   "cell_type": "code",
   "execution_count": 108,
   "id": "9654b11a",
   "metadata": {},
   "outputs": [
    {
     "data": {
      "text/plain": [
       "array([[ 5,  8,  9, 11, 11, 12],\n",
       "       [ 0,  1,  5, 12, 15, 16],\n",
       "       [ 5,  6,  7, 13, 18, 18],\n",
       "       [ 4,  9, 10, 11, 14, 18]])"
      ]
     },
     "execution_count": 108,
     "metadata": {},
     "output_type": "execute_result"
    }
   ],
   "source": [
    "y_int_sort = np.sort(y_int, axis=1) #axis=1 sort the rows\n",
    "y_int_sort"
   ]
  },
  {
   "cell_type": "code",
   "execution_count": 112,
   "id": "ca97e60e",
   "metadata": {},
   "outputs": [
    {
     "data": {
      "text/plain": [
       "array([[ 5,  8,  9, 11, 11, 12,  5, 11, 12,  8,  9, 11],\n",
       "       [ 0,  1,  5, 12, 15, 16,  5, 15,  0, 16,  1, 12],\n",
       "       [ 5,  6,  7, 13, 18, 18,  7, 13,  6, 18,  5, 18],\n",
       "       [ 4,  9, 10, 11, 14, 18, 11, 10, 14, 18,  4,  9]])"
      ]
     },
     "execution_count": 112,
     "metadata": {},
     "output_type": "execute_result"
    }
   ],
   "source": [
    "y_hstack = np.hstack((y_int_sort, y_int))\n",
    "y_hstack"
   ]
  },
  {
   "cell_type": "code",
   "execution_count": 113,
   "id": "45fc193e",
   "metadata": {},
   "outputs": [
    {
     "data": {
      "text/plain": [
       "array([[ 5,  8,  9, 11, 11, 12],\n",
       "       [ 0,  1,  5, 12, 15, 16],\n",
       "       [ 5,  6,  7, 13, 18, 18],\n",
       "       [ 4,  9, 10, 11, 14, 18],\n",
       "       [ 5, 11, 12,  8,  9, 11],\n",
       "       [ 5, 15,  0, 16,  1, 12],\n",
       "       [ 7, 13,  6, 18,  5, 18],\n",
       "       [11, 10, 14, 18,  4,  9]])"
      ]
     },
     "execution_count": 113,
     "metadata": {},
     "output_type": "execute_result"
    }
   ],
   "source": [
    "y_vstack = np.vstack((y_int_sort, y_int))\n",
    "y_vstack"
   ]
  },
  {
   "cell_type": "markdown",
   "id": "dd5292a3",
   "metadata": {},
   "source": [
    "### Using scipy to solve eigenvalues and eigenvectors"
   ]
  },
  {
   "cell_type": "code",
   "execution_count": 114,
   "id": "a6d380d1",
   "metadata": {},
   "outputs": [
    {
     "data": {
      "text/plain": [
       "array([[11,  0,  1],\n",
       "       [ 3, -1,  4],\n",
       "       [ 6,  7, -2]])"
      ]
     },
     "execution_count": 114,
     "metadata": {},
     "output_type": "execute_result"
    }
   ],
   "source": [
    "from scipy import linalg\n",
    "test_data = np.array([[11, 0, 1],[3, -1, 4], [6, 7, -2]])\n",
    "test_data"
   ]
  },
  {
   "cell_type": "code",
   "execution_count": 122,
   "id": "7415e1bb",
   "metadata": {},
   "outputs": [
    {
     "data": {
      "text/plain": [
       "8"
      ]
     },
     "execution_count": 122,
     "metadata": {},
     "output_type": "execute_result"
    }
   ],
   "source": [
    "test_data.trace()"
   ]
  },
  {
   "cell_type": "code",
   "execution_count": 115,
   "id": "19bdb318",
   "metadata": {},
   "outputs": [],
   "source": [
    "eigenvalues, eigenvector = linalg.eig(test_data)"
   ]
  },
  {
   "cell_type": "code",
   "execution_count": 116,
   "id": "7222be6b",
   "metadata": {},
   "outputs": [],
   "source": [
    "first_eigen, second_eigen, third_eigen = eigenvalues"
   ]
  },
  {
   "cell_type": "code",
   "execution_count": 118,
   "id": "96066b55",
   "metadata": {},
   "outputs": [
    {
     "name": "stdout",
     "output_type": "stream",
     "text": [
      "(11.668321041285413+0j)\n",
      "(3.221627966157723+0j)\n",
      "(-6.889949007443135+0j)\n"
     ]
    }
   ],
   "source": [
    "print(first_eigen)\n",
    "print(second_eigen)\n",
    "print(third_eigen)"
   ]
  },
  {
   "cell_type": "code",
   "execution_count": 119,
   "id": "b57a8110",
   "metadata": {},
   "outputs": [
    {
     "name": "stdout",
     "output_type": "stream",
     "text": [
      "[0.77915871 0.34893249 0.52072816]\n",
      "[ 0.0971971  -0.64727389 -0.75603521]\n",
      "[-0.04680143 -0.54477496  0.83727526]\n"
     ]
    }
   ],
   "source": [
    "print(eigenvector[:,0])\n",
    "print(eigenvector[:,1])\n",
    "print(eigenvector[:,2])"
   ]
  },
  {
   "cell_type": "code",
   "execution_count": 121,
   "id": "fb022759",
   "metadata": {},
   "outputs": [
    {
     "name": "stdout",
     "output_type": "stream",
     "text": [
      "random_variable:  [ 2.46210794 -1.06014071  0.6775828   0.61594565  2.13376944 -0.09989127\n",
      "  0.82757179  0.12214158  1.04221375  1.58281521]\n",
      "cummulative_fuction:  0.9772498680518208\n",
      "probability_density:  0.010798193302637612\n"
     ]
    }
   ],
   "source": [
    "from scipy.stats import norm\n",
    "#random variables of 10 numbers\n",
    "print('random_variable: ',norm.rvs(loc=1,scale=1,size=10))\n",
    "\n",
    "# cumulative distribution function 5 number\n",
    "print('cummulative_fuction: ',norm.cdf(5,loc=1,scale=2))\n",
    "\n",
    "# probability density function 0f 10 number \n",
    "print('probability_density: ',norm.pdf(10,loc=0,scale=5))"
   ]
  },
  {
   "cell_type": "markdown",
   "id": "407a5ec7",
   "metadata": {},
   "source": [
    "#### Calculating GDP with numpy"
   ]
  },
  {
   "cell_type": "code",
   "execution_count": 126,
   "id": "b63badbd",
   "metadata": {},
   "outputs": [],
   "source": [
    "# certain gdp of some countries\n",
    "countries =np.array(['Algeria','Angola','Argentina','Australia','Austria','Bahamas','Bangladesh',\n",
    "                     'Belarus','Belgium','Bhutan','Brazil','Bulgaria','Cambodia','Cameroon',\n",
    "                     'Chile','China','Colombia','Cyprus','Denmark','El Salvador','Estonia',\n",
    "                     'Ethiopia','Fiji','Finland','France','Georgia','Ghana','Grenada',\n",
    "                     'Guinea','Haiti','Honduras','Hungary','India','Indonesia','Ireland',\n",
    "                     'Italy','Japan','Kenya', 'South Korea','Liberia','Malaysia','Mexico',\n",
    "                     'Morocco','Nepal','New Zealand','Norway','Pakistan', 'Peru','Qatar',\n",
    "                     'Russia','Singapore','South Africa','Spain','Sweden','Switzerland','Thailand',\n",
    "                     'United Arab Emirates','United Kingdom','United States','Uruguay','Venezuela','Vietnam','Zimbabwe'])\n",
    "\n",
    "\n",
    "countries_gdp = np.array([2255.225482,629.9553062,11601.63022,25306.82494,27266.40335,19466.99052,588.3691778,\n",
    "                          2890.345675,24733.62696,1445.760002,4803.398244,2618.876037,590.4521124,665.7982328,\n",
    "                          7122.938458,2639.54156,3362.4656,15378.16704,30860.12808,2579.115607,6525.541272,\n",
    "                          229.6769525,2242.689259,27570.4852,23016.84778,1334.646773,402.6953275,6047.200797,\n",
    "                          394.1156638,385.5793827,1414.072488,5745.981529,837.7464011,1206.991065,27715.52837,\n",
    "                          18937.24998,39578.07441,478.2194906,16684.21278,279.2204061,5345.213415,6288.25324,\n",
    "                          1908.304416,274.8728621,14646.42094,40034.85063,672.1547506,3359.517402,36152.66676,\n",
    "                          3054.727742,33529.83052,3825.093781,15428.32098,33630.24604,39170.41371,2699.123242,\n",
    "                          21058.43643,28272.40661,37691.02733,9581.05659,5671.912202,757.4009286,347.7456605])\n",
    "\n",
    "max_countries_gdp = countries_gdp.argmax()"
   ]
  },
  {
   "cell_type": "code",
   "execution_count": 127,
   "id": "12b96a04",
   "metadata": {},
   "outputs": [],
   "source": [
    "countries_with_highest_gdp = countries[max_countries_gdp]"
   ]
  },
  {
   "cell_type": "code",
   "execution_count": 128,
   "id": "97ec1582",
   "metadata": {},
   "outputs": [
    {
     "data": {
      "text/plain": [
       "'Norway'"
      ]
     },
     "execution_count": 128,
     "metadata": {},
     "output_type": "execute_result"
    }
   ],
   "source": [
    "countries_with_highest_gdp"
   ]
  },
  {
   "cell_type": "code",
   "execution_count": 129,
   "id": "bc7e1359",
   "metadata": {},
   "outputs": [
    {
     "data": {
      "text/plain": [
       "'Ethiopia'"
      ]
     },
     "execution_count": 129,
     "metadata": {},
     "output_type": "execute_result"
    }
   ],
   "source": [
    "min_countries_gdp = countries_gdp.argmin()\n",
    "countries_with_lowest_gdp = countries[min_countries_gdp]\n",
    "countries_with_lowest_gdp"
   ]
  },
  {
   "cell_type": "code",
   "execution_count": 130,
   "id": "07e6741b",
   "metadata": {},
   "outputs": [
    {
     "name": "stdout",
     "output_type": "stream",
     "text": [
      "country Algeria GDP is 2255.225482\n",
      "country Angola GDP is 629.9553062\n",
      "country Argentina GDP is 11601.63022\n",
      "country Australia GDP is 25306.82494\n",
      "country Austria GDP is 27266.40335\n",
      "country Bahamas GDP is 19466.99052\n",
      "country Bangladesh GDP is 588.3691778\n",
      "country Belarus GDP is 2890.345675\n",
      "country Belgium GDP is 24733.62696\n",
      "country Bhutan GDP is 1445.760002\n",
      "country Brazil GDP is 4803.398244\n",
      "country Bulgaria GDP is 2618.876037\n",
      "country Cambodia GDP is 590.4521124\n",
      "country Cameroon GDP is 665.7982328\n",
      "country Chile GDP is 7122.938458\n",
      "country China GDP is 2639.54156\n",
      "country Colombia GDP is 3362.4656\n",
      "country Cyprus GDP is 15378.16704\n",
      "country Denmark GDP is 30860.12808\n",
      "country El Salvador GDP is 2579.115607\n",
      "country Estonia GDP is 6525.541272\n",
      "country Ethiopia GDP is 229.6769525\n",
      "country Fiji GDP is 2242.689259\n",
      "country Finland GDP is 27570.4852\n",
      "country France GDP is 23016.84778\n",
      "country Georgia GDP is 1334.646773\n",
      "country Ghana GDP is 402.6953275\n",
      "country Grenada GDP is 6047.200797\n",
      "country Guinea GDP is 394.1156638\n",
      "country Haiti GDP is 385.5793827\n",
      "country Honduras GDP is 1414.072488\n",
      "country Hungary GDP is 5745.981529\n",
      "country India GDP is 837.7464011\n",
      "country Indonesia GDP is 1206.991065\n",
      "country Ireland GDP is 27715.52837\n",
      "country Italy GDP is 18937.24998\n",
      "country Japan GDP is 39578.07441\n",
      "country Kenya GDP is 478.2194906\n",
      "country South Korea GDP is 16684.21278\n",
      "country Liberia GDP is 279.2204061\n",
      "country Malaysia GDP is 5345.213415\n",
      "country Mexico GDP is 6288.25324\n",
      "country Morocco GDP is 1908.304416\n",
      "country Nepal GDP is 274.8728621\n",
      "country New Zealand GDP is 14646.42094\n",
      "country Norway GDP is 40034.85063\n",
      "country Pakistan GDP is 672.1547506\n",
      "country Peru GDP is 3359.517402\n",
      "country Qatar GDP is 36152.66676\n",
      "country Russia GDP is 3054.727742\n",
      "country Singapore GDP is 33529.83052\n",
      "country South Africa GDP is 3825.093781\n",
      "country Spain GDP is 15428.32098\n",
      "country Sweden GDP is 33630.24604\n",
      "country Switzerland GDP is 39170.41371\n",
      "country Thailand GDP is 2699.123242\n",
      "country United Arab Emirates GDP is 21058.43643\n",
      "country United Kingdom GDP is 28272.40661\n",
      "country United States GDP is 37691.02733\n",
      "country Uruguay GDP is 9581.05659\n",
      "country Venezuela GDP is 5671.912202\n",
      "country Vietnam GDP is 757.4009286\n",
      "country Zimbabwe GDP is 347.7456605\n"
     ]
    }
   ],
   "source": [
    "for counts in range(len(countries)):\n",
    "    country =countries[counts]\n",
    "    country_gdp = countries_gdp[counts]\n",
    "    print(\"country {} GDP is {}\".format(country,country_gdp))\n",
    "       "
   ]
  },
  {
   "cell_type": "code",
   "execution_count": 131,
   "id": "70e33138",
   "metadata": {},
   "outputs": [
    {
     "data": {
      "text/plain": [
       "40034.85063"
      ]
     },
     "execution_count": 131,
     "metadata": {},
     "output_type": "execute_result"
    }
   ],
   "source": [
    "highest_country_gdp = max(countries_gdp)\n",
    "highest_country_gdp"
   ]
  },
  {
   "cell_type": "code",
   "execution_count": 132,
   "id": "1059aeb4",
   "metadata": {},
   "outputs": [
    {
     "data": {
      "text/plain": [
       "229.6769525"
      ]
     },
     "execution_count": 132,
     "metadata": {},
     "output_type": "execute_result"
    }
   ],
   "source": [
    "lowest_country_gdp = min(countries_gdp)\n",
    "lowest_country_gdp"
   ]
  },
  {
   "cell_type": "code",
   "execution_count": 133,
   "id": "b8bc3ccd",
   "metadata": {},
   "outputs": [
    {
     "name": "stdout",
     "output_type": "stream",
     "text": [
      "11289.409271639683\n",
      "12743.828910617945\n"
     ]
    }
   ],
   "source": [
    "# the mean and standard deviation of the countries_gdp\n",
    "mean_countries_gdp = np.mean(countries_gdp)\n",
    "print(mean_countries_gdp)\n",
    "std_countries_gdp = np.std(countries_gdp)\n",
    "print(std_countries_gdp)"
   ]
  },
  {
   "cell_type": "markdown",
   "id": "762701d9",
   "metadata": {},
   "source": [
    "##### Gross domestic product 2021"
   ]
  },
  {
   "cell_type": "code",
   "execution_count": 149,
   "id": "314500cf",
   "metadata": {},
   "outputs": [],
   "source": [
    "world_zone = np.array(['East Asia & Pacific','Europe & Central Asia','Latin America & Caribbean',\n",
    "                        'Middle East & North Africa','North America','South Asia','Sub-Saharan Africa'])\n",
    "world_zone_gdp = np.array([30880832,25046913,5488720,3636732,24993943,4087774,1917904,])"
   ]
  },
  {
   "cell_type": "code",
   "execution_count": 151,
   "id": "441760be",
   "metadata": {},
   "outputs": [
    {
     "data": {
      "text/plain": [
       "'East Asia & Pacific'"
      ]
     },
     "execution_count": 151,
     "metadata": {},
     "output_type": "execute_result"
    }
   ],
   "source": [
    "max_world_zone_gdp = world_zone_gdp.argmax()\n",
    "max_world_zone_gdp = world_zone[max_world_zone_gdp]\n",
    "max_world_zone_gdp"
   ]
  },
  {
   "cell_type": "code",
   "execution_count": 152,
   "id": "20baa1b0",
   "metadata": {},
   "outputs": [
    {
     "data": {
      "text/plain": [
       "'Sub-Saharan Africa'"
      ]
     },
     "execution_count": 152,
     "metadata": {},
     "output_type": "execute_result"
    }
   ],
   "source": [
    "min_world_zone_gdp = world_zone_gdp.argmin()\n",
    "min_world_zone_gdp = world_zone[min_world_zone_gdp]\n",
    "min_world_zone_gdp"
   ]
  },
  {
   "cell_type": "code",
   "execution_count": null,
   "id": "91d841cb",
   "metadata": {},
   "outputs": [],
   "source": []
  }
 ],
 "metadata": {
  "kernelspec": {
   "display_name": "Python 3 (ipykernel)",
   "language": "python",
   "name": "python3"
  },
  "language_info": {
   "codemirror_mode": {
    "name": "ipython",
    "version": 3
   },
   "file_extension": ".py",
   "mimetype": "text/x-python",
   "name": "python",
   "nbconvert_exporter": "python",
   "pygments_lexer": "ipython3",
   "version": "3.9.7"
  }
 },
 "nbformat": 4,
 "nbformat_minor": 5
}
